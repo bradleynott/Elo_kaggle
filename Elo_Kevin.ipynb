{
 "cells": [
  {
   "cell_type": "code",
   "execution_count": 1,
   "metadata": {},
   "outputs": [],
   "source": [
    "import numpy as np\n",
    "import matplotlib.pyplot as plt\n",
    "\n",
    "from sklearn.pipeline import Pipeline\n",
    "from sklearn.neighbors import KNeighborsClassifier\n",
    "from sklearn.linear_model import LogisticRegression\n",
    "from sklearn.naive_bayes import BernoulliNB\n",
    "from sklearn.naive_bayes import MultinomialNB\n",
    "from sklearn.model_selection import GridSearchCV\n",
    "\n",
    "from IPython.display import Markdown, display\n",
    "import pandas as pd"
   ]
  },
  {
   "cell_type": "code",
   "execution_count": 2,
   "metadata": {},
   "outputs": [],
   "source": [
    "train = np.genfromtxt('./input/train.csv', delimiter=',')"
   ]
  },
  {
   "cell_type": "code",
   "execution_count": 3,
   "metadata": {},
   "outputs": [
    {
     "data": {
      "text/plain": [
       "array([[        nan,         nan,         nan,         nan,         nan,\n",
       "                nan],\n",
       "       [        nan,         nan,  5.        ,  2.        ,  1.        ,\n",
       "        -0.8202826 ],\n",
       "       [        nan,         nan,  4.        ,  1.        ,  0.        ,\n",
       "         0.39291325],\n",
       "       ...,\n",
       "       [        nan,         nan,  4.        ,  3.        ,  0.        ,\n",
       "         0.09349415],\n",
       "       [        nan,         nan,  3.        ,  2.        ,  1.        ,\n",
       "        -4.67658938],\n",
       "       [        nan,         nan,  3.        ,  1.        ,  1.        ,\n",
       "        -1.85941301]])"
      ]
     },
     "execution_count": 3,
     "metadata": {},
     "output_type": "execute_result"
    }
   ],
   "source": [
    "train.view()"
   ]
  },
  {
   "cell_type": "code",
   "execution_count": 6,
   "metadata": {},
   "outputs": [],
   "source": [
    "train_df = pd.read_csv('./input/train.csv', sep=',',header=1)"
   ]
  },
  {
   "cell_type": "code",
   "execution_count": 7,
   "metadata": {},
   "outputs": [
    {
     "data": {
      "text/plain": [
       "array([['2017-01', 'C_ID_3d0044924f', 4, 1, 0, 0.39291325],\n",
       "       ['2016-08', 'C_ID_d639edf6cd', 2, 2, 0, 0.68805599],\n",
       "       ['2017-09', 'C_ID_186d6a6901', 4, 3, 0, 0.1424952],\n",
       "       ...,\n",
       "       ['2017-08', 'C_ID_7666735b3d', 4, 3, 0, 0.09349415],\n",
       "       ['2016-07', 'C_ID_73f5a0efd0', 3, 2, 1, -4.67658938],\n",
       "       ['2017-07', 'C_ID_92c9984c58', 3, 1, 1, -1.85941301]], dtype=object)"
      ]
     },
     "execution_count": 7,
     "metadata": {},
     "output_type": "execute_result"
    }
   ],
   "source": [
    "train_df.values"
   ]
  },
  {
   "cell_type": "code",
   "execution_count": null,
   "metadata": {},
   "outputs": [],
   "source": []
  }
 ],
 "metadata": {
  "kernelspec": {
   "display_name": "Python 3",
   "language": "python",
   "name": "python3"
  },
  "language_info": {
   "codemirror_mode": {
    "name": "ipython",
    "version": 3
   },
   "file_extension": ".py",
   "mimetype": "text/x-python",
   "name": "python",
   "nbconvert_exporter": "python",
   "pygments_lexer": "ipython3",
   "version": "3.7.1"
  }
 },
 "nbformat": 4,
 "nbformat_minor": 2
}
