{
 "cells": [
  {
   "cell_type": "code",
   "execution_count": null,
   "metadata": {},
   "outputs": [],
   "source": [
    "import numpy               as np\n",
    "import scipy               as sp\n",
    "import matplotlib.pyplot   as pp\n",
    "import pandas              as pd\n",
    "import seaborn             as sb\n",
    "\n",
    "from sklearn               import metrics\n",
    "from sklearn.decomposition import PCA\n",
    "from sklearn.cluster       import KMeans\n",
    "from sklearn.mixture       import GaussianMixture\n",
    "from sklearn.preprocessing import StandardScaler\n",
    "from sklearn.preprocessing import LabelEncoder\n",
    "\n",
    "from collections           import defaultdict"
   ]
  },
  {
   "cell_type": "code",
   "execution_count": 4,
   "metadata": {},
   "outputs": [
    {
     "data": {
      "text/html": [
       "<span                              ><pre><fieldset style=\"border:0px;border-top:2px solid black\"><legend><b>SECTION</b></legend></fieldset></pre></span>"
      ],
      "text/plain": [
       "<IPython.core.display.HTML object>"
      ]
     },
     "metadata": {},
     "output_type": "display_data"
    },
    {
     "data": {
      "text/html": [
       "<span                              ><pre><b>hi</b> [1, 2, 3] <span style=\"color:red;background:transparent;font-family:monospace;font-weight:bold\">hello world</span> <span style=\"color:red;background:black;font-family:monospace;font-weight:bold\">!!!</span></pre></span>"
      ],
      "text/plain": [
       "<IPython.core.display.HTML object>"
      ]
     },
     "metadata": {},
     "output_type": "display_data"
    },
    {
     "data": {
      "text/markdown": [
       "<span                              ><b>hi</b> [1, 2, 3] <span style=\"color:red;background:transparent;font-family:monospace;font-weight:bold\">hello world</span> <span style=\"color:red;background:black;font-family:monospace;font-weight:bold\">!!!</span></span>"
      ],
      "text/plain": [
       "<IPython.core.display.Markdown object>"
      ]
     },
     "metadata": {},
     "output_type": "display_data"
    },
    {
     "data": {
      "text/html": [
       "<span                              ><pre><hr       style=\"border:0px;border-top:2px solid black\"/></pre></span>"
      ],
      "text/plain": [
       "<IPython.core.display.HTML object>"
      ]
     },
     "metadata": {},
     "output_type": "display_data"
    }
   ],
   "source": [
    "from utility import html, mark, color, hr, compress\n",
    "\n",
    "hr('SECTION')\n",
    "html('<b>hi</b>', [1,2,3], color('hello world', weight = 'bold'), color('!!!', weight = 'bold', background = 'black'))\n",
    "mark('<b>hi</b>', [1,2,3], color('hello world', weight = 'bold'), color('!!!', weight = 'bold', background = 'black'))\n",
    "hr()"
   ]
  },
  {
   "cell_type": "code",
   "execution_count": 5,
   "metadata": {},
   "outputs": [],
   "source": [
    "train = pd.read_csv('../input/train.csv', parse_dates = ['first_active_month']).set_index('card_id')\n",
    "test  = pd.read_csv('../input/test.csv',  parse_dates = ['first_active_month']).set_index('card_id')"
   ]
  },
  {
   "cell_type": "code",
   "execution_count": 6,
   "metadata": {},
   "outputs": [],
   "source": [
    "merchants = pd.read_csv('../input/merchants.csv').set_index('merchant_id')"
   ]
  },
  {
   "cell_type": "code",
   "execution_count": 7,
   "metadata": {},
   "outputs": [],
   "source": [
    "transactions_old = pd.read_csv('../input/historical_transactions.csv',   parse_dates = ['purchase_date'])\n",
    "transactions_new = pd.read_csv('../input/new_merchant_transactions.csv', parse_dates = ['purchase_date'])"
   ]
  },
  {
   "cell_type": "code",
   "execution_count": null,
   "metadata": {},
   "outputs": [],
   "source": [
    "#compress(transactions_old).dtypes"
   ]
  },
  {
   "cell_type": "code",
   "execution_count": 11,
   "metadata": {},
   "outputs": [],
   "source": [
    "purchase_amount_old = transactions_old.groupby(['card_id'])['purchase_amount'].sum().to_frame('old_purchase_amount') # total old purchase amount per card\n",
    "purchase_amount_new = transactions_new.groupby(['card_id'])['purchase_amount'].sum().to_frame('new_purchase_amount') # total new purchase amount per card"
   ]
  },
  {
   "cell_type": "code",
   "execution_count": 13,
   "metadata": {},
   "outputs": [],
   "source": [
    "merchant_visits_old = transactions_old.groupby(['card_id'])['merchant_id'].count().to_frame('old_merchant_visits') # total old merchant visits per card\n",
    "merchant_visits_new = transactions_new.groupby(['card_id'])['merchant_id'].count().to_frame('new_merchant_visits') # total new merchant visits per card"
   ]
  },
  {
   "cell_type": "code",
   "execution_count": 30,
   "metadata": {},
   "outputs": [
    {
     "data": {
      "text/plain": [
       "first_active_month    201917\n",
       "feature_1             201917\n",
       "feature_2             201917\n",
       "feature_3             201917\n",
       "dtype: int64"
      ]
     },
     "execution_count": 30,
     "metadata": {},
     "output_type": "execute_result"
    }
   ],
   "source": [
    "x_train = train.copy().drop(['target'], axis = 1) # train features\n",
    "y_train = train.copy().filter(['target'])         # train label\n",
    "x_train.count()"
   ]
  },
  {
   "cell_type": "code",
   "execution_count": 33,
   "metadata": {},
   "outputs": [
    {
     "data": {
      "text/plain": [
       "first_active_month     201917\n",
       "feature_1              201917\n",
       "feature_2              201917\n",
       "feature_3              201917\n",
       "old_purchase_amount    201917\n",
       "new_purchase_amount    179986\n",
       "old_merchant_visits    201917\n",
       "new_merchant_visits    179986\n",
       "dtype: int64"
      ]
     },
     "execution_count": 33,
     "metadata": {},
     "output_type": "execute_result"
    }
   ],
   "source": [
    "x_train = x_train.join(purchase_amount_old[purchase_amount_old.index.isin(train.index)]) # left join old purchase amount on index (card_id), where card_id in train dataset\n",
    "x_train = x_train.join(purchase_amount_new[purchase_amount_new.index.isin(train.index)]) # left join old purchase amount on index (card_id), where card_id in train dataset\n",
    "\n",
    "x_train = x_train.join(merchant_visits_old[merchant_visits_old.index.isin(train.index)]) # left join old merchant visits on index (card_id), where card_id in train dataset\n",
    "x_train = x_train.join(merchant_visits_new[merchant_visits_new.index.isin(train.index)]) # left join old merchant visits on index (card_id), where card_id in train dataset\n",
    "\n",
    "x_train.count()"
   ]
  },
  {
   "cell_type": "code",
   "execution_count": 35,
   "metadata": {},
   "outputs": [
    {
     "data": {
      "text/html": [
       "<div>\n",
       "<style scoped>\n",
       "    .dataframe tbody tr th:only-of-type {\n",
       "        vertical-align: middle;\n",
       "    }\n",
       "\n",
       "    .dataframe tbody tr th {\n",
       "        vertical-align: top;\n",
       "    }\n",
       "\n",
       "    .dataframe thead th {\n",
       "        text-align: right;\n",
       "    }\n",
       "</style>\n",
       "<table border=\"1\" class=\"dataframe\">\n",
       "  <thead>\n",
       "    <tr style=\"text-align: right;\">\n",
       "      <th></th>\n",
       "      <th>first_active_month</th>\n",
       "      <th>feature_1</th>\n",
       "      <th>feature_2</th>\n",
       "      <th>feature_3</th>\n",
       "      <th>old_purchase_amount</th>\n",
       "      <th>new_purchase_amount</th>\n",
       "      <th>old_merchant_visits</th>\n",
       "      <th>new_merchant_visits</th>\n",
       "    </tr>\n",
       "    <tr>\n",
       "      <th>card_id</th>\n",
       "      <th></th>\n",
       "      <th></th>\n",
       "      <th></th>\n",
       "      <th></th>\n",
       "      <th></th>\n",
       "      <th></th>\n",
       "      <th></th>\n",
       "      <th></th>\n",
       "    </tr>\n",
       "  </thead>\n",
       "  <tbody>\n",
       "    <tr>\n",
       "      <th>C_ID_92a2005557</th>\n",
       "      <td>2017-06-01</td>\n",
       "      <td>5</td>\n",
       "      <td>2</td>\n",
       "      <td>1</td>\n",
       "      <td>-165.968739</td>\n",
       "      <td>-13.244202</td>\n",
       "      <td>254</td>\n",
       "      <td>23.0</td>\n",
       "    </tr>\n",
       "    <tr>\n",
       "      <th>C_ID_3d0044924f</th>\n",
       "      <td>2017-01-01</td>\n",
       "      <td>4</td>\n",
       "      <td>1</td>\n",
       "      <td>0</td>\n",
       "      <td>-210.006336</td>\n",
       "      <td>-4.355735</td>\n",
       "      <td>350</td>\n",
       "      <td>6.0</td>\n",
       "    </tr>\n",
       "    <tr>\n",
       "      <th>C_ID_d639edf6cd</th>\n",
       "      <td>2016-08-01</td>\n",
       "      <td>2</td>\n",
       "      <td>2</td>\n",
       "      <td>0</td>\n",
       "      <td>-29.167391</td>\n",
       "      <td>-0.700326</td>\n",
       "      <td>43</td>\n",
       "      <td>1.0</td>\n",
       "    </tr>\n",
       "    <tr>\n",
       "      <th>C_ID_186d6a6901</th>\n",
       "      <td>2017-09-01</td>\n",
       "      <td>4</td>\n",
       "      <td>3</td>\n",
       "      <td>0</td>\n",
       "      <td>-49.491364</td>\n",
       "      <td>-4.654372</td>\n",
       "      <td>77</td>\n",
       "      <td>7.0</td>\n",
       "    </tr>\n",
       "    <tr>\n",
       "      <th>C_ID_cdbd2c0db2</th>\n",
       "      <td>2017-11-01</td>\n",
       "      <td>1</td>\n",
       "      <td>3</td>\n",
       "      <td>0</td>\n",
       "      <td>-48.687656</td>\n",
       "      <td>-19.926237</td>\n",
       "      <td>132</td>\n",
       "      <td>36.0</td>\n",
       "    </tr>\n",
       "  </tbody>\n",
       "</table>\n",
       "</div>"
      ],
      "text/plain": [
       "                first_active_month  feature_1  feature_2  feature_3  \\\n",
       "card_id                                                               \n",
       "C_ID_92a2005557         2017-06-01          5          2          1   \n",
       "C_ID_3d0044924f         2017-01-01          4          1          0   \n",
       "C_ID_d639edf6cd         2016-08-01          2          2          0   \n",
       "C_ID_186d6a6901         2017-09-01          4          3          0   \n",
       "C_ID_cdbd2c0db2         2017-11-01          1          3          0   \n",
       "\n",
       "                 old_purchase_amount  new_purchase_amount  \\\n",
       "card_id                                                     \n",
       "C_ID_92a2005557          -165.968739           -13.244202   \n",
       "C_ID_3d0044924f          -210.006336            -4.355735   \n",
       "C_ID_d639edf6cd           -29.167391            -0.700326   \n",
       "C_ID_186d6a6901           -49.491364            -4.654372   \n",
       "C_ID_cdbd2c0db2           -48.687656           -19.926237   \n",
       "\n",
       "                 old_merchant_visits  new_merchant_visits  \n",
       "card_id                                                    \n",
       "C_ID_92a2005557                  254                 23.0  \n",
       "C_ID_3d0044924f                  350                  6.0  \n",
       "C_ID_d639edf6cd                   43                  1.0  \n",
       "C_ID_186d6a6901                   77                  7.0  \n",
       "C_ID_cdbd2c0db2                  132                 36.0  "
      ]
     },
     "execution_count": 35,
     "metadata": {},
     "output_type": "execute_result"
    }
   ],
   "source": [
    "x_train.head()"
   ]
  }
 ],
 "metadata": {
  "kernelspec": {
   "display_name": "Python 3",
   "language": "python",
   "name": "python3"
  },
  "language_info": {
   "codemirror_mode": {
    "name": "ipython",
    "version": 3
   },
   "file_extension": ".py",
   "mimetype": "text/x-python",
   "name": "python",
   "nbconvert_exporter": "python",
   "pygments_lexer": "ipython3",
   "version": "3.7.1"
  }
 },
 "nbformat": 4,
 "nbformat_minor": 2
}
