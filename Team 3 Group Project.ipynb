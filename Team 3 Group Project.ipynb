{
 "cells": [
  {
   "cell_type": "code",
   "execution_count": 1,
   "metadata": {},
   "outputs": [
    {
     "name": "stdout",
     "output_type": "stream",
     "text": [
      "['historical_transactions.csv', '.ipynb_checkpoints', 'new_merchant_transactions.csv', 'merchants.csv', 'sample_submission.csv', 'test.csv', 'Data_Dictionary.xlsx', '.gitignore', 'train.csv']\n"
     ]
    }
   ],
   "source": [
    "import numpy as np\n",
    "import matplotlib.pyplot as plt\n",
    "\n",
    "from sklearn.pipeline import Pipeline\n",
    "from sklearn.neighbors import KNeighborsClassifier\n",
    "from sklearn.linear_model import LogisticRegression\n",
    "from sklearn.naive_bayes import BernoulliNB\n",
    "from sklearn.naive_bayes import MultinomialNB\n",
    "from sklearn.model_selection import GridSearchCV\n",
    "\n",
    "from IPython.display import Markdown, display\n",
    "import pandas as pd\n",
    "\n",
    "import os\n",
    "print(os.listdir(\"./input\"))"
   ]
  },
  {
   "cell_type": "code",
   "execution_count": 2,
   "metadata": {},
   "outputs": [],
   "source": [
    "train_df = pd.read_csv('./input/train.csv', sep=',')\n",
    "# Don't really need this file (no target column)\n",
    "# test_df = pd.read_csv('./input/test.csv', sep=',')\n",
    "\n",
    "# Grab only the features since ndarrays need to be homogeneous\n",
    "training_df = train_df[['feature_1', 'feature_2', 'feature_3']]\n",
    "labels_df = train_df[['target']]\n",
    "\n",
    "# Split data in to train and test (80/20)\n",
    "data_len = len(training_df)\n",
    "train_data = training_df.values[:int(data_len*.8)]\n",
    "train_labels = labels_df.values.flatten()[:int(data_len*.8)]\n",
    "test_data = training_df.values[int(data_len*.8):]\n",
    "test_labels = labels_df.values.flatten()[int(data_len*.8):]"
   ]
  },
  {
   "cell_type": "code",
   "execution_count": 3,
   "metadata": {},
   "outputs": [
    {
     "name": "stdout",
     "output_type": "stream",
     "text": [
      "201917\n",
      "(161533, 3)\n",
      "(161533,)\n",
      "(40384, 3)\n",
      "(40384,)\n",
      "201917\n"
     ]
    }
   ],
   "source": [
    "print(data_len)\n",
    "print(train_data.shape)\n",
    "print(train_labels.shape)\n",
    "print(test_data.shape)\n",
    "print(test_labels.shape)\n",
    "print(train_data.shape[0] + test_data.shape[0])"
   ]
  },
  {
   "cell_type": "code",
   "execution_count": null,
   "metadata": {},
   "outputs": [],
   "source": []
  }
 ],
 "metadata": {
  "kernelspec": {
   "display_name": "Python 3",
   "language": "python",
   "name": "python3"
  },
  "language_info": {
   "codemirror_mode": {
    "name": "ipython",
    "version": 3
   },
   "file_extension": ".py",
   "mimetype": "text/x-python",
   "name": "python",
   "nbconvert_exporter": "python",
   "pygments_lexer": "ipython3",
   "version": "3.7.1"
  }
 },
 "nbformat": 4,
 "nbformat_minor": 2
}
