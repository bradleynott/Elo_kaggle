{
 "cells": [
  {
   "cell_type": "code",
   "execution_count": 1,
   "metadata": {},
   "outputs": [
    {
     "name": "stdout",
     "output_type": "stream",
     "text": [
      "['historical_transactions.csv', '.ipynb_checkpoints', 'new_merchant_transactions.csv', 'merchants.csv', 'sample_submission.csv', 'test.csv', 'Data_Dictionary.xlsx', '.gitignore', 'train.csv']\n"
     ]
    }
   ],
   "source": [
    "import numpy as np\n",
    "import matplotlib.pyplot as plt\n",
    "\n",
    "from sklearn.pipeline import Pipeline\n",
    "from sklearn.neighbors import KNeighborsClassifier\n",
    "from sklearn.linear_model import LogisticRegression\n",
    "from sklearn.naive_bayes import BernoulliNB\n",
    "from sklearn.naive_bayes import MultinomialNB\n",
    "from sklearn.model_selection import GridSearchCV\n",
    "\n",
    "from IPython.display import Markdown, display\n",
    "import pandas as pd\n",
    "\n",
    "import os\n",
    "print(os.listdir(\"./input\"))"
   ]
  },
  {
   "cell_type": "code",
   "execution_count": null,
   "metadata": {},
   "outputs": [],
   "source": [
    "train_df = pd.read_csv('./input/train.csv', sep=',', parse_dates=[\"first_active_month\"])\n",
    "# Don't really need this file (no target column)\n",
    "# test_df = pd.read_csv('./input/test.csv', sep=',', parse_dates=[\"first_active_month\"]))"
   ]
  },
  {
   "cell_type": "code",
   "execution_count": 4,
   "metadata": {},
   "outputs": [
    {
     "name": "stdout",
     "output_type": "stream",
     "text": [
      "count    201917.000000\n",
      "mean         -0.393636\n",
      "std           3.850500\n",
      "min         -33.219281\n",
      "25%          -0.883110\n",
      "50%          -0.023437\n",
      "75%           0.765453\n",
      "max          17.965068\n",
      "Name: target, dtype: float64\n"
     ]
    }
   ],
   "source": [
    "print(train_df.target.describe())"
   ]
  },
  {
   "cell_type": "code",
   "execution_count": 5,
   "metadata": {},
   "outputs": [
    {
     "data": {
      "image/png": "[encoded data removed]",
      "text/plain": [
       "<Figure size 576x360 with 1 Axes>"
      ]
     },
     "metadata": {
      "needs_background": "light"
     },
     "output_type": "display_data"
    }
   ],
   "source": [
    "plt.figure(figsize=(8, 5))\n",
    "plt.hist(train_df.target.values, bins=50)\n",
    "plt.xlabel('Target')\n",
    "plt.ylabel('Count')\n",
    "plt.show()"
   ]
  },
  {
   "cell_type": "code",
   "execution_count": 15,
   "metadata": {},
   "outputs": [
    {
     "data": {
      "image/png": "[encoded data removed]",
      "text/plain": [
       "<Figure size 864x360 with 3 Axes>"
      ]
     },
     "metadata": {
      "needs_background": "light"
     },
     "output_type": "display_data"
    }
   ],
   "source": [
    "\n",
    "fig1, (ax1, ax2, ax3) = plt.subplots(nrows=1, ncols=3, figsize=(12.0, 5.0))\n",
    "\n",
    "ax1.hist(train_df.feature_1.values, bins=5)\n",
    "ax1.set_title('feature 1')\n",
    "ax1.set_xlabel('Value')\n",
    "ax1.set_ylabel('Count')\n",
    "\n",
    "ax2.hist(train_df.feature_2.values, bins=3)\n",
    "ax2.set_title('feature 2')\n",
    "ax2.set_xlabel('Value')\n",
    "# ax2.set_ylabel('Count')\n",
    "\n",
    "ax3.hist(train_df.feature_3.values, bins=2)\n",
    "ax3.set_title('feature 3')\n",
    "ax3.set_xlabel('Value')\n",
    "# ax3.set_ylabel('Count')\n",
    "\n",
    "\n",
    "fig1.show()"
   ]
  },
  {
   "cell_type": "code",
   "execution_count": 2,
   "metadata": {},
   "outputs": [],
   "source": [
    "\n",
    "# Grab only the features since ndarrays need to be homogeneous\n",
    "training_df = train_df[['feature_1', 'feature_2', 'feature_3']]\n",
    "labels_df = train_df[['target']]\n",
    "\n",
    "# Split data in to train and test (80/20)\n",
    "data_len = len(training_df)\n",
    "train_data = training_df.values[:int(data_len*.8)]\n",
    "train_labels = labels_df.values.flatten()[:int(data_len*.8)]\n",
    "test_data = training_df.values[int(data_len*.8):]\n",
    "test_labels = labels_df.values.flatten()[int(data_len*.8):]"
   ]
  },
  {
   "cell_type": "code",
   "execution_count": 3,
   "metadata": {},
   "outputs": [
    {
     "name": "stdout",
     "output_type": "stream",
     "text": [
      "201917\n",
      "(161533, 3)\n",
      "(161533,)\n",
      "(40384, 3)\n",
      "(40384,)\n",
      "201917\n"
     ]
    }
   ],
   "source": [
    "print(data_len)\n",
    "print(train_data.shape)\n",
    "print(train_labels.shape)\n",
    "print(test_data.shape)\n",
    "print(test_labels.shape)\n",
    "print(train_data.shape[0] + test_data.shape[0])\n",
    "\n",
    "print()"
   ]
  },
  {
   "cell_type": "code",
   "execution_count": null,
   "metadata": {},
   "outputs": [],
   "source": []
  }
 ],
 "metadata": {
  "kernelspec": {
   "display_name": "Python 3",
   "language": "python",
   "name": "python3"
  },
  "language_info": {
   "codemirror_mode": {
    "name": "ipython",
    "version": 3
   },
   "file_extension": ".py",
   "mimetype": "text/x-python",
   "name": "python",
   "nbconvert_exporter": "python",
   "pygments_lexer": "ipython3",
   "version": "3.7.1"
  }
 },
 "nbformat": 4,
 "nbformat_minor": 2
}
