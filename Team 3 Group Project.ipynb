{
 "cells": [
  {
   "cell_type": "code",
   "execution_count": 1,
   "metadata": {},
   "outputs": [
    {
     "name": "stdout",
     "output_type": "stream",
     "text": [
      "['historical_transactions.csv', '.ipynb_checkpoints', 'new_merchant_transactions.csv', '.~lock.Data_Dictionary.xlsx#', 'merchants.csv', 'sample_submission.csv', 'test.csv', 'Data_Dictionary.xlsx', '.gitignore', 'train.csv']\n"
     ]
    }
   ],
   "source": [
    "import numpy               as np\n",
    "import matplotlib.pyplot   as plt\n",
    "import matplotlib.pyplot   as pp # we will merge these\n",
    "import pandas              as pd\n",
    "import seaborn             as sb\n",
    "\n",
    "from datetime              import timedelta \n",
    "\n",
    "from sklearn               import metrics\n",
    "from sklearn.decomposition import PCA\n",
    "from sklearn.cluster       import KMeans\n",
    "from sklearn.mixture       import GaussianMixture\n",
    "from sklearn.linear_model  import LinearRegression\n",
    "\n",
    "from matplotlib.colors     import LogNorm\n",
    "\n",
    "from IPython.display       import HTML, Markdown\n",
    "\n",
    "from sklearn.metrics       import mean_squared_error\n",
    "\n",
    "%matplotlib inline\n",
    "\n",
    "import os\n",
    "print(os.listdir(\"./input\"))"
   ]
  },
  {
   "cell_type": "markdown",
   "metadata": {},
   "source": [
    "# Helper Functions"
   ]
  },
  {
   "cell_type": "code",
   "execution_count": 2,
   "metadata": {},
   "outputs": [
    {
     "data": {
      "text/markdown": [
       "<b>hi</b> [1, 2, 3] <span style=\"color:red;background:transparent;font-weight:bold\">hello world</span> <span style=\"color:red;background:black;font-weight:bold\">!!!</span>"
      ],
      "text/plain": [
       "<IPython.core.display.Markdown object>"
      ]
     },
     "metadata": {},
     "output_type": "display_data"
    },
    {
     "data": {
      "text/markdown": [
       "<hr/>"
      ],
      "text/plain": [
       "<IPython.core.display.Markdown object>"
      ]
     },
     "metadata": {},
     "output_type": "display_data"
    }
   ],
   "source": [
    "def color(text, color = 'red', background = 'transparent', weight = 'normal') :\n",
    "    return f'<span style=\"color:{color};background:{background};font-weight:{weight}\">{text}</span>'\n",
    "\n",
    "def mark(*objects, sep = ' ') :\n",
    "    return display(Markdown(sep.join(str(o) for o in objects)))\n",
    "\n",
    "def line(header = '') :\n",
    "    \n",
    "    return mark('<hr/>')\n",
    "\n",
    "mark('<b>hi</b>', [1,2,3], color('hello world', weight = 'bold'), color('!!!', weight = 'bold', background = 'black'))\n",
    "line()"
   ]
  },
  {
   "cell_type": "code",
   "execution_count": 3,
   "metadata": {},
   "outputs": [],
   "source": [
    "train        = pd.read_csv('input/train.csv', parse_dates=['first_active_month']).set_index('card_id')\n",
    "test         = pd.read_csv('input/test.csv',  parse_dates=['first_active_month']).set_index('card_id')\n",
    "merchants    = pd.read_csv('input/merchants.csv').set_index('merchant_id')\n",
    "transactions_old = pd.read_csv('input/historical_transactions.csv',   parse_dates = ['purchase_date'])\n",
    "transactions_new = pd.read_csv('input/new_merchant_transactions.csv', parse_dates = ['purchase_date'])\n"
   ]
  },
  {
   "cell_type": "markdown",
   "metadata": {},
   "source": [
    "## Data Clean Up"
   ]
  },
  {
   "cell_type": "code",
   "execution_count": 4,
   "metadata": {},
   "outputs": [
    {
     "name": "stdout",
     "output_type": "stream",
     "text": [
      "first_active_month    NaT\n",
      "feature_1               5\n",
      "feature_2               2\n",
      "feature_3               1\n",
      "Name: C_ID_c27b4f80f7, dtype: object\n"
     ]
    }
   ],
   "source": [
    "# Row is missing value for first_active_month\n",
    "print(test.loc['C_ID_c27b4f80f7', :])\n",
    "test = test.drop(index='C_ID_c27b4f80f7')"
   ]
  },
  {
   "cell_type": "markdown",
   "metadata": {},
   "source": [
    "# Exploratory Data Analysis"
   ]
  },
  {
   "cell_type": "code",
   "execution_count": 5,
   "metadata": {},
   "outputs": [
    {
     "data": {
      "text/markdown": [
       "<b>Code Book for Training Data</b>"
      ],
      "text/plain": [
       "<IPython.core.display.Markdown object>"
      ]
     },
     "metadata": {},
     "output_type": "display_data"
    },
    {
     "data": {
      "text/html": [
       "<style  type=\"text/css\" >\n",
       "</style>  \n",
       "<table id=\"T_05db5bca_5405_11e9_bb48_5756374a6ffc\" > \n",
       "<thead>    <tr> \n",
       "        <th class=\"col_heading level0 col0\" >Columns</th> \n",
       "        <th class=\"col_heading level0 col1\" >Description</th> \n",
       "    </tr></thead> \n",
       "<tbody>    <tr> \n",
       "        <td id=\"T_05db5bca_5405_11e9_bb48_5756374a6ffcrow0_col0\" class=\"data row0 col0\" >card_id</td> \n",
       "        <td id=\"T_05db5bca_5405_11e9_bb48_5756374a6ffcrow0_col1\" class=\"data row0 col1\" >Unique card identifier</td> \n",
       "    </tr>    <tr> \n",
       "        <td id=\"T_05db5bca_5405_11e9_bb48_5756374a6ffcrow1_col0\" class=\"data row1 col0\" >first_active_month</td> \n",
       "        <td id=\"T_05db5bca_5405_11e9_bb48_5756374a6ffcrow1_col1\" class=\"data row1 col1\" >'YYYY-MM', month of first purchase</td> \n",
       "    </tr>    <tr> \n",
       "        <td id=\"T_05db5bca_5405_11e9_bb48_5756374a6ffcrow2_col0\" class=\"data row2 col0\" >feature_1</td> \n",
       "        <td id=\"T_05db5bca_5405_11e9_bb48_5756374a6ffcrow2_col1\" class=\"data row2 col1\" >Anonymized card categorical feature</td> \n",
       "    </tr>    <tr> \n",
       "        <td id=\"T_05db5bca_5405_11e9_bb48_5756374a6ffcrow3_col0\" class=\"data row3 col0\" >feature_2</td> \n",
       "        <td id=\"T_05db5bca_5405_11e9_bb48_5756374a6ffcrow3_col1\" class=\"data row3 col1\" >Anonymized card categorical feature</td> \n",
       "    </tr>    <tr> \n",
       "        <td id=\"T_05db5bca_5405_11e9_bb48_5756374a6ffcrow4_col0\" class=\"data row4 col0\" >feature_3</td> \n",
       "        <td id=\"T_05db5bca_5405_11e9_bb48_5756374a6ffcrow4_col1\" class=\"data row4 col1\" >Anonymized card categorical feature</td> \n",
       "    </tr>    <tr> \n",
       "        <td id=\"T_05db5bca_5405_11e9_bb48_5756374a6ffcrow5_col0\" class=\"data row5 col0\" >target</td> \n",
       "        <td id=\"T_05db5bca_5405_11e9_bb48_5756374a6ffcrow5_col1\" class=\"data row5 col1\" >Loyalty numerical score calculated 2 months after historical and evaluation period</td> \n",
       "    </tr></tbody> \n",
       "</table> "
      ],
      "text/plain": [
       "<pandas.io.formats.style.Styler at 0x7f1658e94f60>"
      ]
     },
     "metadata": {},
     "output_type": "display_data"
    },
    {
     "data": {
      "text/markdown": [
       "<hr/>"
      ],
      "text/plain": [
       "<IPython.core.display.Markdown object>"
      ]
     },
     "metadata": {},
     "output_type": "display_data"
    },
    {
     "data": {
      "text/markdown": [
       "<b>Code Book for Historical Transactions</b>"
      ],
      "text/plain": [
       "<IPython.core.display.Markdown object>"
      ]
     },
     "metadata": {},
     "output_type": "display_data"
    },
    {
     "data": {
      "text/html": [
       "<style  type=\"text/css\" >\n",
       "</style>  \n",
       "<table id=\"T_05dd6bf4_5405_11e9_bb48_5756374a6ffc\" > \n",
       "<thead>    <tr> \n",
       "        <th class=\"col_heading level0 col0\" >Columns</th> \n",
       "        <th class=\"col_heading level0 col1\" >Description</th> \n",
       "    </tr></thead> \n",
       "<tbody>    <tr> \n",
       "        <td id=\"T_05dd6bf4_5405_11e9_bb48_5756374a6ffcrow0_col0\" class=\"data row0 col0\" >card_id</td> \n",
       "        <td id=\"T_05dd6bf4_5405_11e9_bb48_5756374a6ffcrow0_col1\" class=\"data row0 col1\" >Card identifier</td> \n",
       "    </tr>    <tr> \n",
       "        <td id=\"T_05dd6bf4_5405_11e9_bb48_5756374a6ffcrow1_col0\" class=\"data row1 col0\" >month_lag</td> \n",
       "        <td id=\"T_05dd6bf4_5405_11e9_bb48_5756374a6ffcrow1_col1\" class=\"data row1 col1\" >month lag to reference date</td> \n",
       "    </tr>    <tr> \n",
       "        <td id=\"T_05dd6bf4_5405_11e9_bb48_5756374a6ffcrow2_col0\" class=\"data row2 col0\" >purchase_date</td> \n",
       "        <td id=\"T_05dd6bf4_5405_11e9_bb48_5756374a6ffcrow2_col1\" class=\"data row2 col1\" >Purchase date</td> \n",
       "    </tr>    <tr> \n",
       "        <td id=\"T_05dd6bf4_5405_11e9_bb48_5756374a6ffcrow3_col0\" class=\"data row3 col0\" >authorized_flag</td> \n",
       "        <td id=\"T_05dd6bf4_5405_11e9_bb48_5756374a6ffcrow3_col1\" class=\"data row3 col1\" >Y' if approved, 'N' if denied</td> \n",
       "    </tr>    <tr> \n",
       "        <td id=\"T_05dd6bf4_5405_11e9_bb48_5756374a6ffcrow4_col0\" class=\"data row4 col0\" >category_3</td> \n",
       "        <td id=\"T_05dd6bf4_5405_11e9_bb48_5756374a6ffcrow4_col1\" class=\"data row4 col1\" >anonymized category</td> \n",
       "    </tr>    <tr> \n",
       "        <td id=\"T_05dd6bf4_5405_11e9_bb48_5756374a6ffcrow5_col0\" class=\"data row5 col0\" >installments</td> \n",
       "        <td id=\"T_05dd6bf4_5405_11e9_bb48_5756374a6ffcrow5_col1\" class=\"data row5 col1\" >number of installments of purchase</td> \n",
       "    </tr>    <tr> \n",
       "        <td id=\"T_05dd6bf4_5405_11e9_bb48_5756374a6ffcrow6_col0\" class=\"data row6 col0\" >category_1</td> \n",
       "        <td id=\"T_05dd6bf4_5405_11e9_bb48_5756374a6ffcrow6_col1\" class=\"data row6 col1\" >anonymized category</td> \n",
       "    </tr>    <tr> \n",
       "        <td id=\"T_05dd6bf4_5405_11e9_bb48_5756374a6ffcrow7_col0\" class=\"data row7 col0\" >merchant_category_id</td> \n",
       "        <td id=\"T_05dd6bf4_5405_11e9_bb48_5756374a6ffcrow7_col1\" class=\"data row7 col1\" >Merchant category identifier (anonymized )</td> \n",
       "    </tr>    <tr> \n",
       "        <td id=\"T_05dd6bf4_5405_11e9_bb48_5756374a6ffcrow8_col0\" class=\"data row8 col0\" >subsector_id</td> \n",
       "        <td id=\"T_05dd6bf4_5405_11e9_bb48_5756374a6ffcrow8_col1\" class=\"data row8 col1\" >Merchant category group identifier (anonymized )</td> \n",
       "    </tr>    <tr> \n",
       "        <td id=\"T_05dd6bf4_5405_11e9_bb48_5756374a6ffcrow9_col0\" class=\"data row9 col0\" >merchant_id</td> \n",
       "        <td id=\"T_05dd6bf4_5405_11e9_bb48_5756374a6ffcrow9_col1\" class=\"data row9 col1\" >Merchant identifier (anonymized)</td> \n",
       "    </tr>    <tr> \n",
       "        <td id=\"T_05dd6bf4_5405_11e9_bb48_5756374a6ffcrow10_col0\" class=\"data row10 col0\" >purchase_amount</td> \n",
       "        <td id=\"T_05dd6bf4_5405_11e9_bb48_5756374a6ffcrow10_col1\" class=\"data row10 col1\" >Normalized purchase amount</td> \n",
       "    </tr>    <tr> \n",
       "        <td id=\"T_05dd6bf4_5405_11e9_bb48_5756374a6ffcrow11_col0\" class=\"data row11 col0\" >city_id</td> \n",
       "        <td id=\"T_05dd6bf4_5405_11e9_bb48_5756374a6ffcrow11_col1\" class=\"data row11 col1\" >City identifier (anonymized )</td> \n",
       "    </tr>    <tr> \n",
       "        <td id=\"T_05dd6bf4_5405_11e9_bb48_5756374a6ffcrow12_col0\" class=\"data row12 col0\" >state_id</td> \n",
       "        <td id=\"T_05dd6bf4_5405_11e9_bb48_5756374a6ffcrow12_col1\" class=\"data row12 col1\" >State identifier (anonymized )</td> \n",
       "    </tr>    <tr> \n",
       "        <td id=\"T_05dd6bf4_5405_11e9_bb48_5756374a6ffcrow13_col0\" class=\"data row13 col0\" >category_2</td> \n",
       "        <td id=\"T_05dd6bf4_5405_11e9_bb48_5756374a6ffcrow13_col1\" class=\"data row13 col1\" >anonymized category</td> \n",
       "    </tr></tbody> \n",
       "</table> "
      ],
      "text/plain": [
       "<pandas.io.formats.style.Styler at 0x7f17281cfda0>"
      ]
     },
     "metadata": {},
     "output_type": "display_data"
    },
    {
     "data": {
      "text/markdown": [
       "<hr/>"
      ],
      "text/plain": [
       "<IPython.core.display.Markdown object>"
      ]
     },
     "metadata": {},
     "output_type": "display_data"
    },
    {
     "data": {
      "text/markdown": [
       "<b>Code Book for New Merchant Transactions</b>"
      ],
      "text/plain": [
       "<IPython.core.display.Markdown object>"
      ]
     },
     "metadata": {},
     "output_type": "display_data"
    },
    {
     "data": {
      "text/html": [
       "<style  type=\"text/css\" >\n",
       "</style>  \n",
       "<table id=\"T_05df5130_5405_11e9_bb48_5756374a6ffc\" > \n",
       "<thead>    <tr> \n",
       "        <th class=\"col_heading level0 col0\" >Columns</th> \n",
       "        <th class=\"col_heading level0 col1\" >Description</th> \n",
       "    </tr></thead> \n",
       "<tbody>    <tr> \n",
       "        <td id=\"T_05df5130_5405_11e9_bb48_5756374a6ffcrow0_col0\" class=\"data row0 col0\" >card_id</td> \n",
       "        <td id=\"T_05df5130_5405_11e9_bb48_5756374a6ffcrow0_col1\" class=\"data row0 col1\" >Card identifier</td> \n",
       "    </tr>    <tr> \n",
       "        <td id=\"T_05df5130_5405_11e9_bb48_5756374a6ffcrow1_col0\" class=\"data row1 col0\" >month_lag</td> \n",
       "        <td id=\"T_05df5130_5405_11e9_bb48_5756374a6ffcrow1_col1\" class=\"data row1 col1\" >month lag to reference date</td> \n",
       "    </tr>    <tr> \n",
       "        <td id=\"T_05df5130_5405_11e9_bb48_5756374a6ffcrow2_col0\" class=\"data row2 col0\" >purchase_date</td> \n",
       "        <td id=\"T_05df5130_5405_11e9_bb48_5756374a6ffcrow2_col1\" class=\"data row2 col1\" >Purchase date</td> \n",
       "    </tr>    <tr> \n",
       "        <td id=\"T_05df5130_5405_11e9_bb48_5756374a6ffcrow3_col0\" class=\"data row3 col0\" >authorized_flag</td> \n",
       "        <td id=\"T_05df5130_5405_11e9_bb48_5756374a6ffcrow3_col1\" class=\"data row3 col1\" >Y' if approved, 'N' if denied</td> \n",
       "    </tr>    <tr> \n",
       "        <td id=\"T_05df5130_5405_11e9_bb48_5756374a6ffcrow4_col0\" class=\"data row4 col0\" >category_3</td> \n",
       "        <td id=\"T_05df5130_5405_11e9_bb48_5756374a6ffcrow4_col1\" class=\"data row4 col1\" >anonymized category</td> \n",
       "    </tr>    <tr> \n",
       "        <td id=\"T_05df5130_5405_11e9_bb48_5756374a6ffcrow5_col0\" class=\"data row5 col0\" >installments</td> \n",
       "        <td id=\"T_05df5130_5405_11e9_bb48_5756374a6ffcrow5_col1\" class=\"data row5 col1\" >number of installments of purchase</td> \n",
       "    </tr>    <tr> \n",
       "        <td id=\"T_05df5130_5405_11e9_bb48_5756374a6ffcrow6_col0\" class=\"data row6 col0\" >category_1</td> \n",
       "        <td id=\"T_05df5130_5405_11e9_bb48_5756374a6ffcrow6_col1\" class=\"data row6 col1\" >anonymized category</td> \n",
       "    </tr>    <tr> \n",
       "        <td id=\"T_05df5130_5405_11e9_bb48_5756374a6ffcrow7_col0\" class=\"data row7 col0\" >merchant_category_id</td> \n",
       "        <td id=\"T_05df5130_5405_11e9_bb48_5756374a6ffcrow7_col1\" class=\"data row7 col1\" >Merchant category identifier (anonymized )</td> \n",
       "    </tr>    <tr> \n",
       "        <td id=\"T_05df5130_5405_11e9_bb48_5756374a6ffcrow8_col0\" class=\"data row8 col0\" >subsector_id</td> \n",
       "        <td id=\"T_05df5130_5405_11e9_bb48_5756374a6ffcrow8_col1\" class=\"data row8 col1\" >Merchant category group identifier (anonymized )</td> \n",
       "    </tr>    <tr> \n",
       "        <td id=\"T_05df5130_5405_11e9_bb48_5756374a6ffcrow9_col0\" class=\"data row9 col0\" >merchant_id</td> \n",
       "        <td id=\"T_05df5130_5405_11e9_bb48_5756374a6ffcrow9_col1\" class=\"data row9 col1\" >Merchant identifier (anonymized)</td> \n",
       "    </tr>    <tr> \n",
       "        <td id=\"T_05df5130_5405_11e9_bb48_5756374a6ffcrow10_col0\" class=\"data row10 col0\" >purchase_amount</td> \n",
       "        <td id=\"T_05df5130_5405_11e9_bb48_5756374a6ffcrow10_col1\" class=\"data row10 col1\" >Normalized purchase amount</td> \n",
       "    </tr>    <tr> \n",
       "        <td id=\"T_05df5130_5405_11e9_bb48_5756374a6ffcrow11_col0\" class=\"data row11 col0\" >city_id</td> \n",
       "        <td id=\"T_05df5130_5405_11e9_bb48_5756374a6ffcrow11_col1\" class=\"data row11 col1\" >City identifier (anonymized )</td> \n",
       "    </tr>    <tr> \n",
       "        <td id=\"T_05df5130_5405_11e9_bb48_5756374a6ffcrow12_col0\" class=\"data row12 col0\" >state_id</td> \n",
       "        <td id=\"T_05df5130_5405_11e9_bb48_5756374a6ffcrow12_col1\" class=\"data row12 col1\" >State identifier (anonymized )</td> \n",
       "    </tr>    <tr> \n",
       "        <td id=\"T_05df5130_5405_11e9_bb48_5756374a6ffcrow13_col0\" class=\"data row13 col0\" >category_2</td> \n",
       "        <td id=\"T_05df5130_5405_11e9_bb48_5756374a6ffcrow13_col1\" class=\"data row13 col1\" >anonymized category</td> \n",
       "    </tr></tbody> \n",
       "</table> "
      ],
      "text/plain": [
       "<pandas.io.formats.style.Styler at 0x7f1658e94f60>"
      ]
     },
     "metadata": {},
     "output_type": "display_data"
    },
    {
     "data": {
      "text/markdown": [
       "<hr/>"
      ],
      "text/plain": [
       "<IPython.core.display.Markdown object>"
      ]
     },
     "metadata": {},
     "output_type": "display_data"
    },
    {
     "data": {
      "text/markdown": [
       "<b>Code Book for Merchant Details</b>"
      ],
      "text/plain": [
       "<IPython.core.display.Markdown object>"
      ]
     },
     "metadata": {},
     "output_type": "display_data"
    },
    {
     "data": {
      "text/html": [
       "<style  type=\"text/css\" >\n",
       "</style>  \n",
       "<table id=\"T_05e16362_5405_11e9_bb48_5756374a6ffc\" > \n",
       "<thead>    <tr> \n",
       "        <th class=\"col_heading level0 col0\" >Columns</th> \n",
       "        <th class=\"col_heading level0 col1\" >Description</th> \n",
       "    </tr></thead> \n",
       "<tbody>    <tr> \n",
       "        <td id=\"T_05e16362_5405_11e9_bb48_5756374a6ffcrow0_col0\" class=\"data row0 col0\" >merchant_id</td> \n",
       "        <td id=\"T_05e16362_5405_11e9_bb48_5756374a6ffcrow0_col1\" class=\"data row0 col1\" >Unique merchant identifier</td> \n",
       "    </tr>    <tr> \n",
       "        <td id=\"T_05e16362_5405_11e9_bb48_5756374a6ffcrow1_col0\" class=\"data row1 col0\" >merchant_group_id</td> \n",
       "        <td id=\"T_05e16362_5405_11e9_bb48_5756374a6ffcrow1_col1\" class=\"data row1 col1\" >Merchant group (anonymized )</td> \n",
       "    </tr>    <tr> \n",
       "        <td id=\"T_05e16362_5405_11e9_bb48_5756374a6ffcrow2_col0\" class=\"data row2 col0\" >merchant_category_id</td> \n",
       "        <td id=\"T_05e16362_5405_11e9_bb48_5756374a6ffcrow2_col1\" class=\"data row2 col1\" >Unique identifier for merchant category (anonymized )</td> \n",
       "    </tr>    <tr> \n",
       "        <td id=\"T_05e16362_5405_11e9_bb48_5756374a6ffcrow3_col0\" class=\"data row3 col0\" >subsector_id</td> \n",
       "        <td id=\"T_05e16362_5405_11e9_bb48_5756374a6ffcrow3_col1\" class=\"data row3 col1\" >Merchant category group (anonymized )</td> \n",
       "    </tr>    <tr> \n",
       "        <td id=\"T_05e16362_5405_11e9_bb48_5756374a6ffcrow4_col0\" class=\"data row4 col0\" >numerical_1</td> \n",
       "        <td id=\"T_05e16362_5405_11e9_bb48_5756374a6ffcrow4_col1\" class=\"data row4 col1\" >anonymized measure</td> \n",
       "    </tr>    <tr> \n",
       "        <td id=\"T_05e16362_5405_11e9_bb48_5756374a6ffcrow5_col0\" class=\"data row5 col0\" >numerical_2</td> \n",
       "        <td id=\"T_05e16362_5405_11e9_bb48_5756374a6ffcrow5_col1\" class=\"data row5 col1\" >anonymized measure</td> \n",
       "    </tr>    <tr> \n",
       "        <td id=\"T_05e16362_5405_11e9_bb48_5756374a6ffcrow6_col0\" class=\"data row6 col0\" >category_1</td> \n",
       "        <td id=\"T_05e16362_5405_11e9_bb48_5756374a6ffcrow6_col1\" class=\"data row6 col1\" >anonymized category</td> \n",
       "    </tr>    <tr> \n",
       "        <td id=\"T_05e16362_5405_11e9_bb48_5756374a6ffcrow7_col0\" class=\"data row7 col0\" >most_recent_sales_range</td> \n",
       "        <td id=\"T_05e16362_5405_11e9_bb48_5756374a6ffcrow7_col1\" class=\"data row7 col1\" >Range of revenue (monetary units) in last active month --> A > B > C > D > E</td> \n",
       "    </tr>    <tr> \n",
       "        <td id=\"T_05e16362_5405_11e9_bb48_5756374a6ffcrow8_col0\" class=\"data row8 col0\" >most_recent_purchases_range</td> \n",
       "        <td id=\"T_05e16362_5405_11e9_bb48_5756374a6ffcrow8_col1\" class=\"data row8 col1\" >Range of quantity of transactions in last active month --> A > B > C > D > E</td> \n",
       "    </tr>    <tr> \n",
       "        <td id=\"T_05e16362_5405_11e9_bb48_5756374a6ffcrow9_col0\" class=\"data row9 col0\" >avg_sales_lag3</td> \n",
       "        <td id=\"T_05e16362_5405_11e9_bb48_5756374a6ffcrow9_col1\" class=\"data row9 col1\" >Monthly average of revenue in last 3 months divided by revenue in last active month</td> \n",
       "    </tr>    <tr> \n",
       "        <td id=\"T_05e16362_5405_11e9_bb48_5756374a6ffcrow10_col0\" class=\"data row10 col0\" >avg_purchases_lag3</td> \n",
       "        <td id=\"T_05e16362_5405_11e9_bb48_5756374a6ffcrow10_col1\" class=\"data row10 col1\" >Monthly average of transactions in last 3 months divided by transactions in last active month</td> \n",
       "    </tr>    <tr> \n",
       "        <td id=\"T_05e16362_5405_11e9_bb48_5756374a6ffcrow11_col0\" class=\"data row11 col0\" >active_months_lag3</td> \n",
       "        <td id=\"T_05e16362_5405_11e9_bb48_5756374a6ffcrow11_col1\" class=\"data row11 col1\" >Quantity of active months within last 3 months</td> \n",
       "    </tr>    <tr> \n",
       "        <td id=\"T_05e16362_5405_11e9_bb48_5756374a6ffcrow12_col0\" class=\"data row12 col0\" >avg_sales_lag6</td> \n",
       "        <td id=\"T_05e16362_5405_11e9_bb48_5756374a6ffcrow12_col1\" class=\"data row12 col1\" >Monthly average of revenue in last 6 months divided by revenue in last active month</td> \n",
       "    </tr>    <tr> \n",
       "        <td id=\"T_05e16362_5405_11e9_bb48_5756374a6ffcrow13_col0\" class=\"data row13 col0\" >avg_purchases_lag6</td> \n",
       "        <td id=\"T_05e16362_5405_11e9_bb48_5756374a6ffcrow13_col1\" class=\"data row13 col1\" >Monthly average of transactions in last 6 months divided by transactions in last active month</td> \n",
       "    </tr>    <tr> \n",
       "        <td id=\"T_05e16362_5405_11e9_bb48_5756374a6ffcrow14_col0\" class=\"data row14 col0\" >active_months_lag6</td> \n",
       "        <td id=\"T_05e16362_5405_11e9_bb48_5756374a6ffcrow14_col1\" class=\"data row14 col1\" >Quantity of active months within last 6 months</td> \n",
       "    </tr>    <tr> \n",
       "        <td id=\"T_05e16362_5405_11e9_bb48_5756374a6ffcrow15_col0\" class=\"data row15 col0\" >avg_sales_lag12</td> \n",
       "        <td id=\"T_05e16362_5405_11e9_bb48_5756374a6ffcrow15_col1\" class=\"data row15 col1\" >Monthly average of revenue in last 12 months divided by revenue in last active month</td> \n",
       "    </tr>    <tr> \n",
       "        <td id=\"T_05e16362_5405_11e9_bb48_5756374a6ffcrow16_col0\" class=\"data row16 col0\" >avg_purchases_lag12</td> \n",
       "        <td id=\"T_05e16362_5405_11e9_bb48_5756374a6ffcrow16_col1\" class=\"data row16 col1\" >Monthly average of transactions in last 12 months divided by transactions in last active month</td> \n",
       "    </tr>    <tr> \n",
       "        <td id=\"T_05e16362_5405_11e9_bb48_5756374a6ffcrow17_col0\" class=\"data row17 col0\" >active_months_lag12</td> \n",
       "        <td id=\"T_05e16362_5405_11e9_bb48_5756374a6ffcrow17_col1\" class=\"data row17 col1\" >Quantity of active months within last 12 months</td> \n",
       "    </tr>    <tr> \n",
       "        <td id=\"T_05e16362_5405_11e9_bb48_5756374a6ffcrow18_col0\" class=\"data row18 col0\" >category_4</td> \n",
       "        <td id=\"T_05e16362_5405_11e9_bb48_5756374a6ffcrow18_col1\" class=\"data row18 col1\" >anonymized category</td> \n",
       "    </tr>    <tr> \n",
       "        <td id=\"T_05e16362_5405_11e9_bb48_5756374a6ffcrow19_col0\" class=\"data row19 col0\" >city_id</td> \n",
       "        <td id=\"T_05e16362_5405_11e9_bb48_5756374a6ffcrow19_col1\" class=\"data row19 col1\" >City identifier (anonymized )</td> \n",
       "    </tr>    <tr> \n",
       "        <td id=\"T_05e16362_5405_11e9_bb48_5756374a6ffcrow20_col0\" class=\"data row20 col0\" >state_id</td> \n",
       "        <td id=\"T_05e16362_5405_11e9_bb48_5756374a6ffcrow20_col1\" class=\"data row20 col1\" >State identifier (anonymized )</td> \n",
       "    </tr>    <tr> \n",
       "        <td id=\"T_05e16362_5405_11e9_bb48_5756374a6ffcrow21_col0\" class=\"data row21 col0\" >category_2</td> \n",
       "        <td id=\"T_05e16362_5405_11e9_bb48_5756374a6ffcrow21_col1\" class=\"data row21 col1\" >anonymized category</td> \n",
       "    </tr></tbody> \n",
       "</table> "
      ],
      "text/plain": [
       "<pandas.io.formats.style.Styler at 0x7f16b7e4e080>"
      ]
     },
     "metadata": {},
     "output_type": "display_data"
    }
   ],
   "source": [
    "mark('<b>Code Book for Training Data</b>')\n",
    "display(pd.read_excel('input/Data_Dictionary.xlsx', sheet_name = 'train', header = 2).style.hide_index())\n",
    "line()\n",
    "\n",
    "mark('<b>Code Book for Historical Transactions</b>')\n",
    "display(pd.read_excel('input/Data_Dictionary.xlsx', sheet_name = 'history', header = 2).style.hide_index())\n",
    "line()\n",
    "\n",
    "mark('<b>Code Book for New Merchant Transactions</b>')\n",
    "display(pd.read_excel('input/Data_Dictionary.xlsx', sheet_name = 'new_merchant_period', header = 2).style.hide_index())\n",
    "line()\n",
    "\n",
    "mark('<b>Code Book for Merchant Details</b>')\n",
    "display(pd.read_excel('input/Data_Dictionary.xlsx', sheet_name = 'merchant', header = 2).style.hide_index())"
   ]
  },
  {
   "cell_type": "code",
   "execution_count": 6,
   "metadata": {},
   "outputs": [
    {
     "data": {
      "image/png": "[encoded data removed]",
      "text/plain": [
       "<Figure size 576x360 with 1 Axes>"
      ]
     },
     "metadata": {
      "needs_background": "light"
     },
     "output_type": "display_data"
    }
   ],
   "source": [
    "plt.figure(figsize=(8, 5))\n",
    "plt.hist(train.target.values, bins=50)\n",
    "plt.title('Target Frequency')\n",
    "plt.xlabel('Target')\n",
    "plt.ylabel('Count')\n",
    "plt.show()\n"
   ]
  },
  {
   "cell_type": "code",
   "execution_count": 7,
   "metadata": {
    "scrolled": true
   },
   "outputs": [
    {
     "name": "stderr",
     "output_type": "stream",
     "text": [
      "/home/khanna/anaconda3/lib/python3.7/site-packages/matplotlib/figure.py:445: UserWarning: Matplotlib is currently using module://ipykernel.pylab.backend_inline, which is a non-GUI backend, so cannot show the figure.\n",
      "  % get_backend())\n"
     ]
    },
    {
     "data": {
      "image/png": "[encoded data removed]",
      "text/plain": [
       "<Figure size 864x360 with 3 Axes>"
      ]
     },
     "metadata": {
      "needs_background": "light"
     },
     "output_type": "display_data"
    }
   ],
   "source": [
    "\n",
    "fig1, (ax1, ax2, ax3) = plt.subplots(nrows=1, ncols=3, figsize=(12.0, 5.0))\n",
    "\n",
    "ax1.hist(train.feature_1.values, bins=[1,2,3,4,5])\n",
    "ax1.set_title('feature 1')\n",
    "ax1.set_xlabel('Value')\n",
    "ax1.set_ylabel('Count')\n",
    "\n",
    "ax2.hist(train.feature_2.values, bins=[1,2,3,4])\n",
    "ax2.set_title('feature 2')\n",
    "ax2.set_xlabel('Value')\n",
    "# ax2.set_ylabel('Count')\n",
    "\n",
    "ax3.hist(train.feature_3.values, bins=[0,1,2])\n",
    "ax3.set_title('feature 3')\n",
    "ax3.set_xlabel('Value')\n",
    "# ax3.set_ylabel('Count')\n",
    "\n",
    "fig1.show()"
   ]
  },
  {
   "cell_type": "code",
   "execution_count": null,
   "metadata": {},
   "outputs": [],
   "source": []
  },
  {
   "cell_type": "markdown",
   "metadata": {},
   "source": [
    "# Feature Engineering"
   ]
  },
  {
   "cell_type": "markdown",
   "metadata": {},
   "source": [
    "## Transform train first_active_month to numeric\n",
    "The first_active_month is a date the shopper first made a purchase using Elo.  Converting this to days would make it more useful for modelling. "
   ]
  },
  {
   "cell_type": "code",
   "execution_count": 8,
   "metadata": {},
   "outputs": [
    {
     "data": {
      "text/html": [
       "<div>\n",
       "<style scoped>\n",
       "    .dataframe tbody tr th:only-of-type {\n",
       "        vertical-align: middle;\n",
       "    }\n",
       "\n",
       "    .dataframe tbody tr th {\n",
       "        vertical-align: top;\n",
       "    }\n",
       "\n",
       "    .dataframe thead th {\n",
       "        text-align: right;\n",
       "    }\n",
       "</style>\n",
       "<table border=\"1\" class=\"dataframe\">\n",
       "  <thead>\n",
       "    <tr style=\"text-align: right;\">\n",
       "      <th></th>\n",
       "      <th>first_active_month</th>\n",
       "      <th>feature_1</th>\n",
       "      <th>feature_2</th>\n",
       "      <th>feature_3</th>\n",
       "      <th>target</th>\n",
       "      <th>first_active_delta_days</th>\n",
       "    </tr>\n",
       "    <tr>\n",
       "      <th>card_id</th>\n",
       "      <th></th>\n",
       "      <th></th>\n",
       "      <th></th>\n",
       "      <th></th>\n",
       "      <th></th>\n",
       "      <th></th>\n",
       "    </tr>\n",
       "  </thead>\n",
       "  <tbody>\n",
       "    <tr>\n",
       "      <th>C_ID_92a2005557</th>\n",
       "      <td>2017-06-01</td>\n",
       "      <td>5</td>\n",
       "      <td>2</td>\n",
       "      <td>1</td>\n",
       "      <td>-0.820283</td>\n",
       "      <td>246</td>\n",
       "    </tr>\n",
       "    <tr>\n",
       "      <th>C_ID_3d0044924f</th>\n",
       "      <td>2017-01-01</td>\n",
       "      <td>4</td>\n",
       "      <td>1</td>\n",
       "      <td>0</td>\n",
       "      <td>0.392913</td>\n",
       "      <td>397</td>\n",
       "    </tr>\n",
       "    <tr>\n",
       "      <th>C_ID_d639edf6cd</th>\n",
       "      <td>2016-08-01</td>\n",
       "      <td>2</td>\n",
       "      <td>2</td>\n",
       "      <td>0</td>\n",
       "      <td>0.688056</td>\n",
       "      <td>550</td>\n",
       "    </tr>\n",
       "    <tr>\n",
       "      <th>C_ID_186d6a6901</th>\n",
       "      <td>2017-09-01</td>\n",
       "      <td>4</td>\n",
       "      <td>3</td>\n",
       "      <td>0</td>\n",
       "      <td>0.142495</td>\n",
       "      <td>154</td>\n",
       "    </tr>\n",
       "    <tr>\n",
       "      <th>C_ID_cdbd2c0db2</th>\n",
       "      <td>2017-11-01</td>\n",
       "      <td>1</td>\n",
       "      <td>3</td>\n",
       "      <td>0</td>\n",
       "      <td>-0.159749</td>\n",
       "      <td>93</td>\n",
       "    </tr>\n",
       "  </tbody>\n",
       "</table>\n",
       "</div>"
      ],
      "text/plain": [
       "                first_active_month  feature_1  feature_2  feature_3    target  \\\n",
       "card_id                                                                         \n",
       "C_ID_92a2005557         2017-06-01          5          2          1 -0.820283   \n",
       "C_ID_3d0044924f         2017-01-01          4          1          0  0.392913   \n",
       "C_ID_d639edf6cd         2016-08-01          2          2          0  0.688056   \n",
       "C_ID_186d6a6901         2017-09-01          4          3          0  0.142495   \n",
       "C_ID_cdbd2c0db2         2017-11-01          1          3          0 -0.159749   \n",
       "\n",
       "                 first_active_delta_days  \n",
       "card_id                                   \n",
       "C_ID_92a2005557                      246  \n",
       "C_ID_3d0044924f                      397  \n",
       "C_ID_d639edf6cd                      550  \n",
       "C_ID_186d6a6901                      154  \n",
       "C_ID_cdbd2c0db2                       93  "
      ]
     },
     "metadata": {},
     "output_type": "display_data"
    },
    {
     "data": {
      "text/html": [
       "<div>\n",
       "<style scoped>\n",
       "    .dataframe tbody tr th:only-of-type {\n",
       "        vertical-align: middle;\n",
       "    }\n",
       "\n",
       "    .dataframe tbody tr th {\n",
       "        vertical-align: top;\n",
       "    }\n",
       "\n",
       "    .dataframe thead th {\n",
       "        text-align: right;\n",
       "    }\n",
       "</style>\n",
       "<table border=\"1\" class=\"dataframe\">\n",
       "  <thead>\n",
       "    <tr style=\"text-align: right;\">\n",
       "      <th></th>\n",
       "      <th>first_active_month</th>\n",
       "      <th>feature_1</th>\n",
       "      <th>feature_2</th>\n",
       "      <th>feature_3</th>\n",
       "      <th>first_active_delta_days</th>\n",
       "    </tr>\n",
       "    <tr>\n",
       "      <th>card_id</th>\n",
       "      <th></th>\n",
       "      <th></th>\n",
       "      <th></th>\n",
       "      <th></th>\n",
       "      <th></th>\n",
       "    </tr>\n",
       "  </thead>\n",
       "  <tbody>\n",
       "    <tr>\n",
       "      <th>C_ID_0ab67a22ab</th>\n",
       "      <td>2017-04-01</td>\n",
       "      <td>3</td>\n",
       "      <td>3</td>\n",
       "      <td>1</td>\n",
       "      <td>307</td>\n",
       "    </tr>\n",
       "    <tr>\n",
       "      <th>C_ID_130fd0cbdd</th>\n",
       "      <td>2017-01-01</td>\n",
       "      <td>2</td>\n",
       "      <td>3</td>\n",
       "      <td>0</td>\n",
       "      <td>397</td>\n",
       "    </tr>\n",
       "    <tr>\n",
       "      <th>C_ID_b709037bc5</th>\n",
       "      <td>2017-08-01</td>\n",
       "      <td>5</td>\n",
       "      <td>1</td>\n",
       "      <td>1</td>\n",
       "      <td>185</td>\n",
       "    </tr>\n",
       "    <tr>\n",
       "      <th>C_ID_d27d835a9f</th>\n",
       "      <td>2017-12-01</td>\n",
       "      <td>2</td>\n",
       "      <td>1</td>\n",
       "      <td>0</td>\n",
       "      <td>63</td>\n",
       "    </tr>\n",
       "    <tr>\n",
       "      <th>C_ID_2b5e3df5c2</th>\n",
       "      <td>2015-12-01</td>\n",
       "      <td>5</td>\n",
       "      <td>1</td>\n",
       "      <td>1</td>\n",
       "      <td>794</td>\n",
       "    </tr>\n",
       "  </tbody>\n",
       "</table>\n",
       "</div>"
      ],
      "text/plain": [
       "                first_active_month  feature_1  feature_2  feature_3  \\\n",
       "card_id                                                               \n",
       "C_ID_0ab67a22ab         2017-04-01          3          3          1   \n",
       "C_ID_130fd0cbdd         2017-01-01          2          3          0   \n",
       "C_ID_b709037bc5         2017-08-01          5          1          1   \n",
       "C_ID_d27d835a9f         2017-12-01          2          1          0   \n",
       "C_ID_2b5e3df5c2         2015-12-01          5          1          1   \n",
       "\n",
       "                 first_active_delta_days  \n",
       "card_id                                   \n",
       "C_ID_0ab67a22ab                      307  \n",
       "C_ID_130fd0cbdd                      397  \n",
       "C_ID_b709037bc5                      185  \n",
       "C_ID_d27d835a9f                       63  \n",
       "C_ID_2b5e3df5c2                      794  "
      ]
     },
     "metadata": {},
     "output_type": "display_data"
    }
   ],
   "source": [
    "def first_active_month_to_numeric():\n",
    "    global train, test\n",
    "    latest_date = max(train['first_active_month'].max(), test['first_active_month'].max()) + timedelta(days=1)\n",
    "    train['first_active_delta_days'] = ((latest_date - train['first_active_month']).dt.days)\n",
    "    test['first_active_delta_days']  = ((latest_date - test['first_active_month']).dt.days)\n",
    "\n",
    "first_active_month_to_numeric()\n",
    "display(train.head())\n",
    "display(test.head())\n",
    "\n"
   ]
  },
  {
   "cell_type": "markdown",
   "metadata": {},
   "source": [
    "## Aggregate Transaction History\n",
    "see: https://www.shanelynn.ie/summarising-aggregation-and-grouping-data-in-python-pandas/"
   ]
  },
  {
   "cell_type": "code",
   "execution_count": 9,
   "metadata": {},
   "outputs": [
    {
     "data": {
      "text/html": [
       "<div>\n",
       "<style scoped>\n",
       "    .dataframe tbody tr th:only-of-type {\n",
       "        vertical-align: middle;\n",
       "    }\n",
       "\n",
       "    .dataframe tbody tr th {\n",
       "        vertical-align: top;\n",
       "    }\n",
       "\n",
       "    .dataframe thead th {\n",
       "        text-align: right;\n",
       "    }\n",
       "</style>\n",
       "<table border=\"1\" class=\"dataframe\">\n",
       "  <thead>\n",
       "    <tr style=\"text-align: right;\">\n",
       "      <th></th>\n",
       "      <th>first_active_month</th>\n",
       "      <th>feature_1</th>\n",
       "      <th>feature_2</th>\n",
       "      <th>feature_3</th>\n",
       "      <th>target</th>\n",
       "      <th>first_active_delta_days</th>\n",
       "      <th>old_purchase_amount_sum</th>\n",
       "      <th>old_purchase_amount_mean</th>\n",
       "      <th>old_subsector_id_nunique</th>\n",
       "      <th>old_merchant_category_id_nunique</th>\n",
       "      <th>new_purchase_amount_sum</th>\n",
       "      <th>new_purchase_amount_mean</th>\n",
       "      <th>new_subsector_id_nunique</th>\n",
       "      <th>new_merchant_category_id_nunique</th>\n",
       "    </tr>\n",
       "    <tr>\n",
       "      <th>card_id</th>\n",
       "      <th></th>\n",
       "      <th></th>\n",
       "      <th></th>\n",
       "      <th></th>\n",
       "      <th></th>\n",
       "      <th></th>\n",
       "      <th></th>\n",
       "      <th></th>\n",
       "      <th></th>\n",
       "      <th></th>\n",
       "      <th></th>\n",
       "      <th></th>\n",
       "      <th></th>\n",
       "      <th></th>\n",
       "    </tr>\n",
       "  </thead>\n",
       "  <tbody>\n",
       "    <tr>\n",
       "      <th>C_ID_92a2005557</th>\n",
       "      <td>2017-06-01</td>\n",
       "      <td>5</td>\n",
       "      <td>2</td>\n",
       "      <td>1</td>\n",
       "      <td>-0.820283</td>\n",
       "      <td>246</td>\n",
       "      <td>-165.968739</td>\n",
       "      <td>-0.638341</td>\n",
       "      <td>21</td>\n",
       "      <td>41</td>\n",
       "      <td>-13.244202</td>\n",
       "      <td>-0.575835</td>\n",
       "      <td>10.0</td>\n",
       "      <td>14.0</td>\n",
       "    </tr>\n",
       "    <tr>\n",
       "      <th>C_ID_3d0044924f</th>\n",
       "      <td>2017-01-01</td>\n",
       "      <td>4</td>\n",
       "      <td>1</td>\n",
       "      <td>0</td>\n",
       "      <td>0.392913</td>\n",
       "      <td>397</td>\n",
       "      <td>-210.006336</td>\n",
       "      <td>-0.600018</td>\n",
       "      <td>24</td>\n",
       "      <td>57</td>\n",
       "      <td>-4.355735</td>\n",
       "      <td>-0.725956</td>\n",
       "      <td>4.0</td>\n",
       "      <td>5.0</td>\n",
       "    </tr>\n",
       "    <tr>\n",
       "      <th>C_ID_d639edf6cd</th>\n",
       "      <td>2016-08-01</td>\n",
       "      <td>2</td>\n",
       "      <td>2</td>\n",
       "      <td>0</td>\n",
       "      <td>0.688056</td>\n",
       "      <td>550</td>\n",
       "      <td>-29.167391</td>\n",
       "      <td>-0.678311</td>\n",
       "      <td>7</td>\n",
       "      <td>8</td>\n",
       "      <td>-0.700326</td>\n",
       "      <td>-0.700326</td>\n",
       "      <td>1.0</td>\n",
       "      <td>1.0</td>\n",
       "    </tr>\n",
       "    <tr>\n",
       "      <th>C_ID_186d6a6901</th>\n",
       "      <td>2017-09-01</td>\n",
       "      <td>4</td>\n",
       "      <td>3</td>\n",
       "      <td>0</td>\n",
       "      <td>0.142495</td>\n",
       "      <td>154</td>\n",
       "      <td>-49.491364</td>\n",
       "      <td>-0.642745</td>\n",
       "      <td>13</td>\n",
       "      <td>25</td>\n",
       "      <td>-4.654372</td>\n",
       "      <td>-0.664910</td>\n",
       "      <td>5.0</td>\n",
       "      <td>6.0</td>\n",
       "    </tr>\n",
       "    <tr>\n",
       "      <th>C_ID_cdbd2c0db2</th>\n",
       "      <td>2017-11-01</td>\n",
       "      <td>1</td>\n",
       "      <td>3</td>\n",
       "      <td>0</td>\n",
       "      <td>-0.159749</td>\n",
       "      <td>93</td>\n",
       "      <td>-48.687656</td>\n",
       "      <td>-0.366073</td>\n",
       "      <td>17</td>\n",
       "      <td>26</td>\n",
       "      <td>-19.926237</td>\n",
       "      <td>-0.553507</td>\n",
       "      <td>10.0</td>\n",
       "      <td>17.0</td>\n",
       "    </tr>\n",
       "  </tbody>\n",
       "</table>\n",
       "</div>"
      ],
      "text/plain": [
       "                first_active_month  feature_1  feature_2  feature_3    target  \\\n",
       "card_id                                                                         \n",
       "C_ID_92a2005557         2017-06-01          5          2          1 -0.820283   \n",
       "C_ID_3d0044924f         2017-01-01          4          1          0  0.392913   \n",
       "C_ID_d639edf6cd         2016-08-01          2          2          0  0.688056   \n",
       "C_ID_186d6a6901         2017-09-01          4          3          0  0.142495   \n",
       "C_ID_cdbd2c0db2         2017-11-01          1          3          0 -0.159749   \n",
       "\n",
       "                 first_active_delta_days  old_purchase_amount_sum  \\\n",
       "card_id                                                             \n",
       "C_ID_92a2005557                      246              -165.968739   \n",
       "C_ID_3d0044924f                      397              -210.006336   \n",
       "C_ID_d639edf6cd                      550               -29.167391   \n",
       "C_ID_186d6a6901                      154               -49.491364   \n",
       "C_ID_cdbd2c0db2                       93               -48.687656   \n",
       "\n",
       "                 old_purchase_amount_mean  old_subsector_id_nunique  \\\n",
       "card_id                                                               \n",
       "C_ID_92a2005557                 -0.638341                        21   \n",
       "C_ID_3d0044924f                 -0.600018                        24   \n",
       "C_ID_d639edf6cd                 -0.678311                         7   \n",
       "C_ID_186d6a6901                 -0.642745                        13   \n",
       "C_ID_cdbd2c0db2                 -0.366073                        17   \n",
       "\n",
       "                 old_merchant_category_id_nunique  new_purchase_amount_sum  \\\n",
       "card_id                                                                      \n",
       "C_ID_92a2005557                                41               -13.244202   \n",
       "C_ID_3d0044924f                                57                -4.355735   \n",
       "C_ID_d639edf6cd                                 8                -0.700326   \n",
       "C_ID_186d6a6901                                25                -4.654372   \n",
       "C_ID_cdbd2c0db2                                26               -19.926237   \n",
       "\n",
       "                 new_purchase_amount_mean  new_subsector_id_nunique  \\\n",
       "card_id                                                               \n",
       "C_ID_92a2005557                 -0.575835                      10.0   \n",
       "C_ID_3d0044924f                 -0.725956                       4.0   \n",
       "C_ID_d639edf6cd                 -0.700326                       1.0   \n",
       "C_ID_186d6a6901                 -0.664910                       5.0   \n",
       "C_ID_cdbd2c0db2                 -0.553507                      10.0   \n",
       "\n",
       "                 new_merchant_category_id_nunique  \n",
       "card_id                                            \n",
       "C_ID_92a2005557                              14.0  \n",
       "C_ID_3d0044924f                               5.0  \n",
       "C_ID_d639edf6cd                               1.0  \n",
       "C_ID_186d6a6901                               6.0  \n",
       "C_ID_cdbd2c0db2                              17.0  "
      ]
     },
     "metadata": {},
     "output_type": "display_data"
    },
    {
     "data": {
      "text/html": [
       "<div>\n",
       "<style scoped>\n",
       "    .dataframe tbody tr th:only-of-type {\n",
       "        vertical-align: middle;\n",
       "    }\n",
       "\n",
       "    .dataframe tbody tr th {\n",
       "        vertical-align: top;\n",
       "    }\n",
       "\n",
       "    .dataframe thead th {\n",
       "        text-align: right;\n",
       "    }\n",
       "</style>\n",
       "<table border=\"1\" class=\"dataframe\">\n",
       "  <thead>\n",
       "    <tr style=\"text-align: right;\">\n",
       "      <th></th>\n",
       "      <th>first_active_month</th>\n",
       "      <th>feature_1</th>\n",
       "      <th>feature_2</th>\n",
       "      <th>feature_3</th>\n",
       "      <th>first_active_delta_days</th>\n",
       "      <th>old_purchase_amount_sum</th>\n",
       "      <th>old_purchase_amount_mean</th>\n",
       "      <th>old_subsector_id_nunique</th>\n",
       "      <th>old_merchant_category_id_nunique</th>\n",
       "      <th>new_purchase_amount_sum</th>\n",
       "      <th>new_purchase_amount_mean</th>\n",
       "      <th>new_subsector_id_nunique</th>\n",
       "      <th>new_merchant_category_id_nunique</th>\n",
       "    </tr>\n",
       "    <tr>\n",
       "      <th>card_id</th>\n",
       "      <th></th>\n",
       "      <th></th>\n",
       "      <th></th>\n",
       "      <th></th>\n",
       "      <th></th>\n",
       "      <th></th>\n",
       "      <th></th>\n",
       "      <th></th>\n",
       "      <th></th>\n",
       "      <th></th>\n",
       "      <th></th>\n",
       "      <th></th>\n",
       "      <th></th>\n",
       "    </tr>\n",
       "  </thead>\n",
       "  <tbody>\n",
       "    <tr>\n",
       "      <th>C_ID_0ab67a22ab</th>\n",
       "      <td>2017-04-01</td>\n",
       "      <td>3</td>\n",
       "      <td>3</td>\n",
       "      <td>1</td>\n",
       "      <td>307</td>\n",
       "      <td>-40.733733</td>\n",
       "      <td>-0.599025</td>\n",
       "      <td>12</td>\n",
       "      <td>16</td>\n",
       "      <td>-1.777156</td>\n",
       "      <td>-0.592385</td>\n",
       "      <td>3.0</td>\n",
       "      <td>3.0</td>\n",
       "    </tr>\n",
       "    <tr>\n",
       "      <th>C_ID_130fd0cbdd</th>\n",
       "      <td>2017-01-01</td>\n",
       "      <td>2</td>\n",
       "      <td>3</td>\n",
       "      <td>0</td>\n",
       "      <td>397</td>\n",
       "      <td>-49.136513</td>\n",
       "      <td>-0.629955</td>\n",
       "      <td>12</td>\n",
       "      <td>16</td>\n",
       "      <td>-5.944698</td>\n",
       "      <td>-0.660522</td>\n",
       "      <td>6.0</td>\n",
       "      <td>8.0</td>\n",
       "    </tr>\n",
       "    <tr>\n",
       "      <th>C_ID_b709037bc5</th>\n",
       "      <td>2017-08-01</td>\n",
       "      <td>5</td>\n",
       "      <td>1</td>\n",
       "      <td>1</td>\n",
       "      <td>185</td>\n",
       "      <td>4.528840</td>\n",
       "      <td>0.348372</td>\n",
       "      <td>6</td>\n",
       "      <td>8</td>\n",
       "      <td>0.180138</td>\n",
       "      <td>0.090069</td>\n",
       "      <td>2.0</td>\n",
       "      <td>2.0</td>\n",
       "    </tr>\n",
       "    <tr>\n",
       "      <th>C_ID_d27d835a9f</th>\n",
       "      <td>2017-12-01</td>\n",
       "      <td>2</td>\n",
       "      <td>1</td>\n",
       "      <td>0</td>\n",
       "      <td>63</td>\n",
       "      <td>-13.690715</td>\n",
       "      <td>-0.526566</td>\n",
       "      <td>11</td>\n",
       "      <td>18</td>\n",
       "      <td>-5.743674</td>\n",
       "      <td>-0.574367</td>\n",
       "      <td>8.0</td>\n",
       "      <td>10.0</td>\n",
       "    </tr>\n",
       "    <tr>\n",
       "      <th>C_ID_2b5e3df5c2</th>\n",
       "      <td>2015-12-01</td>\n",
       "      <td>5</td>\n",
       "      <td>1</td>\n",
       "      <td>1</td>\n",
       "      <td>794</td>\n",
       "      <td>25.139384</td>\n",
       "      <td>0.228540</td>\n",
       "      <td>15</td>\n",
       "      <td>31</td>\n",
       "      <td>12.064997</td>\n",
       "      <td>2.010833</td>\n",
       "      <td>4.0</td>\n",
       "      <td>5.0</td>\n",
       "    </tr>\n",
       "  </tbody>\n",
       "</table>\n",
       "</div>"
      ],
      "text/plain": [
       "                first_active_month  feature_1  feature_2  feature_3  \\\n",
       "card_id                                                               \n",
       "C_ID_0ab67a22ab         2017-04-01          3          3          1   \n",
       "C_ID_130fd0cbdd         2017-01-01          2          3          0   \n",
       "C_ID_b709037bc5         2017-08-01          5          1          1   \n",
       "C_ID_d27d835a9f         2017-12-01          2          1          0   \n",
       "C_ID_2b5e3df5c2         2015-12-01          5          1          1   \n",
       "\n",
       "                 first_active_delta_days  old_purchase_amount_sum  \\\n",
       "card_id                                                             \n",
       "C_ID_0ab67a22ab                      307               -40.733733   \n",
       "C_ID_130fd0cbdd                      397               -49.136513   \n",
       "C_ID_b709037bc5                      185                 4.528840   \n",
       "C_ID_d27d835a9f                       63               -13.690715   \n",
       "C_ID_2b5e3df5c2                      794                25.139384   \n",
       "\n",
       "                 old_purchase_amount_mean  old_subsector_id_nunique  \\\n",
       "card_id                                                               \n",
       "C_ID_0ab67a22ab                 -0.599025                        12   \n",
       "C_ID_130fd0cbdd                 -0.629955                        12   \n",
       "C_ID_b709037bc5                  0.348372                         6   \n",
       "C_ID_d27d835a9f                 -0.526566                        11   \n",
       "C_ID_2b5e3df5c2                  0.228540                        15   \n",
       "\n",
       "                 old_merchant_category_id_nunique  new_purchase_amount_sum  \\\n",
       "card_id                                                                      \n",
       "C_ID_0ab67a22ab                                16                -1.777156   \n",
       "C_ID_130fd0cbdd                                16                -5.944698   \n",
       "C_ID_b709037bc5                                 8                 0.180138   \n",
       "C_ID_d27d835a9f                                18                -5.743674   \n",
       "C_ID_2b5e3df5c2                                31                12.064997   \n",
       "\n",
       "                 new_purchase_amount_mean  new_subsector_id_nunique  \\\n",
       "card_id                                                               \n",
       "C_ID_0ab67a22ab                 -0.592385                       3.0   \n",
       "C_ID_130fd0cbdd                 -0.660522                       6.0   \n",
       "C_ID_b709037bc5                  0.090069                       2.0   \n",
       "C_ID_d27d835a9f                 -0.574367                       8.0   \n",
       "C_ID_2b5e3df5c2                  2.010833                       4.0   \n",
       "\n",
       "                 new_merchant_category_id_nunique  \n",
       "card_id                                            \n",
       "C_ID_0ab67a22ab                               3.0  \n",
       "C_ID_130fd0cbdd                               8.0  \n",
       "C_ID_b709037bc5                               2.0  \n",
       "C_ID_d27d835a9f                              10.0  \n",
       "C_ID_2b5e3df5c2                               5.0  "
      ]
     },
     "metadata": {},
     "output_type": "display_data"
    }
   ],
   "source": [
    "def aggregate_data():\n",
    "    global train, test\n",
    "    \n",
    "    # These aggregations will be performed on both new and old\n",
    "    aggregation = {\n",
    "#         'purchase_amount': ['sum', 'mean', 'median', 'max', 'min', 'std'],\n",
    "        'purchase_amount': ['sum', 'mean'],\n",
    "        'subsector_id': ['nunique'],\n",
    "        'merchant_category_id': ['nunique']\n",
    "    }\n",
    "    \n",
    "    # Do aggregations on aggregated_old and join with training and test data\n",
    "    aggregated_old = transactions_old.groupby(['card_id']).agg(aggregation)\n",
    "    aggregated_old.columns = ['old_' + '_'.join(col).strip() for col in aggregated_old.columns.values]\n",
    "    train = train.merge(right=aggregated_old, how='left', on='card_id')\n",
    "    test = test.merge(right=aggregated_old, how='left', on='card_id')\n",
    "\n",
    "    # Do aggregations on aggregated_new and join with training and test data\n",
    "    aggregated_new = transactions_new.groupby(['card_id']).agg(aggregation)\n",
    "    aggregated_new.columns = ['new_' + '_'.join(col).strip() for col in aggregated_new.columns.values]\n",
    "    train = train.merge(right=aggregated_new, how='left', on='card_id')\n",
    "    test = test.merge(right=aggregated_new, how='left', on='card_id')\n",
    "    \n",
    "    train = train.fillna(0)\n",
    "    test = test.fillna(0)\n",
    "\n",
    "    \n",
    "aggregate_data()\n",
    "display(train.head())\n",
    "display(test.head())"
   ]
  },
  {
   "cell_type": "markdown",
   "metadata": {},
   "source": [
    "# Feature Extraction\n",
    "Analyze and select features for modeling"
   ]
  },
  {
   "cell_type": "markdown",
   "metadata": {},
   "source": [
    "# Model\n",
    "## Baseline\n",
    "\n",
    "Our baseline model uses the data provided in the \"train\" dataset. "
   ]
  },
  {
   "cell_type": "code",
   "execution_count": 10,
   "metadata": {},
   "outputs": [
    {
     "name": "stdout",
     "output_type": "stream",
     "text": [
      "After fitting Linear Regression, the baseline Mean Squared Error is: 14.221\n",
      "The mean of our training label is -0.394 and for testing -0.393\n"
     ]
    }
   ],
   "source": [
    "def calculate_baseline():\n",
    "    training = train[['feature_1', 'feature_2', 'feature_3', 'first_active_delta_days']]\n",
    "    labels = train[['target']]\n",
    "\n",
    "    np.random.seed(0)\n",
    "\n",
    "    data_len = len(training)\n",
    "    mask = np.random.rand(data_len) < 0.8\n",
    "\n",
    "    train_data = training.values[mask]\n",
    "    train_labels = labels.values.flatten()[mask]\n",
    "    test_data = training.values[~mask]\n",
    "    test_labels = labels.values.flatten()[~mask]\n",
    "\n",
    "    X = train_data\n",
    "    y = train_labels\n",
    "\n",
    "    X_test = test_data\n",
    "    y_test = test_labels\n",
    "\n",
    "    reg = LinearRegression()\n",
    "    reg.fit(X, y)\n",
    "\n",
    "    y_pred_reg = reg.predict(X_test)\n",
    "    mse = mean_squared_error(y_test, y_pred_reg)\n",
    "\n",
    "    y_mean = train_labels.mean()\n",
    "    y_test_mean = test_labels.mean()\n",
    "\n",
    "    print(\"After fitting Linear Regression, the baseline Mean Squared Error is: {:0.3f}\".format(mse))\n",
    "    print(\"The mean of our training label is {:0.3f} and for testing {:0.3f}\".format(y_mean, y_test_mean))\n",
    "    \n",
    "    return mse\n",
    "\n",
    "baseline_mse = calculate_baseline()"
   ]
  },
  {
   "cell_type": "markdown",
   "metadata": {},
   "source": [
    "## Create training and test set using engineered features "
   ]
  },
  {
   "cell_type": "code",
   "execution_count": 20,
   "metadata": {},
   "outputs": [
    {
     "name": "stdout",
     "output_type": "stream",
     "text": [
      "After doing feature enginnering, the Mean Squared Error is: 14.515\n"
     ]
    }
   ],
   "source": [
    "def calculate_engineered():\n",
    "    # Grab only the features since ndarrays need to be homogeneous\n",
    "    training = train[train.columns[1:]]\n",
    "    del training['target']\n",
    "    labels = train[['target']]\n",
    "    \n",
    "    data_len = len(training)\n",
    "    mask = np.random.rand(data_len) < 0.8\n",
    "\n",
    "    train_data = training.values[mask]\n",
    "    train_labels = labels.values.flatten()[mask]\n",
    "    test_data = training.values[~mask]\n",
    "    test_labels = labels.values.flatten()[~mask]\n",
    "\n",
    "    X = train_data\n",
    "    y = train_labels\n",
    "\n",
    "    X_test = test_data\n",
    "    y_test = test_labels\n",
    "\n",
    "    reg = LinearRegression()\n",
    "    reg.fit(X, y)\n",
    "\n",
    "    y_pred_reg = reg.predict(X_test)\n",
    "    mse = mean_squared_error(y_test, y_pred_reg)\n",
    "\n",
    "    y_mean = train_labels.mean()\n",
    "    y_test_mean = test_labels.mean()\n",
    "\n",
    "    print(\"After doing feature enginnering, the Mean Squared Error is: {:0.3f}\".format(mse))\n",
    "    \n",
    "    return mse\n",
    "\n",
    "\n",
    "engineered_mse = calculate_engineered()"
   ]
  },
  {
   "cell_type": "code",
   "execution_count": 21,
   "metadata": {},
   "outputs": [
    {
     "data": {
      "text/plain": [
       "<matplotlib.axes._subplots.AxesSubplot at 0x7f1654b5d2e8>"
      ]
     },
     "execution_count": 21,
     "metadata": {},
     "output_type": "execute_result"
    },
    {
     "data": {
      "image/png": "[encoded data removed]",
      "text/plain": [
       "<Figure size 432x288 with 2 Axes>"
      ]
     },
     "metadata": {
      "needs_background": "light"
     },
     "output_type": "display_data"
    }
   ],
   "source": [
    "import seaborn as sns\n",
    "\n",
    "train_sm = train[train.columns[1:]][:1000]\n",
    "corr = train_sm.corr()\n",
    "\n",
    "sns.heatmap(corr, \n",
    "        xticklabels=corr.columns,\n",
    "        yticklabels=corr.columns)\n"
   ]
  }
 ],
 "metadata": {
  "kernelspec": {
   "display_name": "Python 3",
   "language": "python",
   "name": "python3"
  },
  "language_info": {
   "codemirror_mode": {
    "name": "ipython",
    "version": 3
   },
   "file_extension": ".py",
   "mimetype": "text/x-python",
   "name": "python",
   "nbconvert_exporter": "python",
   "pygments_lexer": "ipython3",
   "version": "3.7.1"
  }
 },
 "nbformat": 4,
 "nbformat_minor": 2
}
